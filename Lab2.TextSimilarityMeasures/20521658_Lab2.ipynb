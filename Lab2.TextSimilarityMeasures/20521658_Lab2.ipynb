{
  "nbformat": 4,
  "nbformat_minor": 0,
  "metadata": {
    "colab": {
      "provenance": []
    },
    "kernelspec": {
      "name": "python3",
      "display_name": "Python 3"
    },
    "language_info": {
      "name": "python"
    }
  },
  "cells": [
    {
      "cell_type": "code",
      "source": [
        "import math\n",
        "import string\n",
        "from collections import Counter\n",
        "import math"
      ],
      "metadata": {
        "id": "l0hk4pHG24uu"
      },
      "execution_count": 15,
      "outputs": []
    },
    {
      "cell_type": "code",
      "execution_count": 16,
      "metadata": {
        "id": "U9wucYstnrKE"
      },
      "outputs": [],
      "source": [
        "def levenshtein_distance(str1, str2):\n",
        "    m = len(str1)\n",
        "    n = len(str2)\n",
        "\n",
        "    # Tạo ma trận lưu độ đo Levenshtein\n",
        "    dp = [[0] * (n + 1) for _ in range(m + 1)]\n",
        "\n",
        "    # Khởi tạo ma trận cho trường hợp chuỗi rỗng\n",
        "    for i in range(m + 1):\n",
        "        dp[i][0] = i\n",
        "    for j in range(n + 1):\n",
        "        dp[0][j] = j\n",
        "\n",
        "    # Tính độ đo Levenshtein\n",
        "    for i in range(1, m + 1):\n",
        "        for j in range(1, n + 1):\n",
        "            if str1[i - 1] == str2[j - 1]:\n",
        "                cost = 0\n",
        "            else:\n",
        "                cost = 1\n",
        "            dp[i][j] = min(dp[i - 1][j] + 1, dp[i][j - 1] + 1, dp[i - 1][j - 1] + cost)\n",
        "\n",
        "    return dp[m][n]"
      ]
    },
    {
      "cell_type": "code",
      "source": [
        "# Hai chuỗi cần so sánh\n",
        "str1 = \"kitten\"\n",
        "str2 = \"sitting\"\n",
        "\n",
        "# Tính độ đo Levenshtein\n",
        "distance = levenshtein_distance(str1, str2)\n",
        "\n",
        "print(\"Độ đo Levenshtein giữa hai chuỗi là:\", distance)"
      ],
      "metadata": {
        "colab": {
          "base_uri": "https://localhost:8080/"
        },
        "id": "RGD5bwEb39Kj",
        "outputId": "94dcc424-ca2d-4edf-a0f0-b95fe8975fb6"
      },
      "execution_count": 17,
      "outputs": [
        {
          "output_type": "stream",
          "name": "stdout",
          "text": [
            "Độ đo Levenshtein giữa hai chuỗi là: 3\n"
          ]
        }
      ]
    },
    {
      "cell_type": "code",
      "source": [
        "def hamming_distance(str1, str2):\n",
        "    if len(str1) != len(str2):\n",
        "        raise ValueError(\"Hai chuỗi phải có cùng độ dài.\")\n",
        "    distance = 0\n",
        "    for i in range(len(str1)):\n",
        "        if str1[i] != str2[i]:\n",
        "            distance += 1\n",
        "    return distance"
      ],
      "metadata": {
        "id": "eoiXyiq_xPpA"
      },
      "execution_count": 18,
      "outputs": []
    },
    {
      "cell_type": "code",
      "source": [
        "# Hai chuỗi cần so sánh\n",
        "str1 = \"karolin\"\n",
        "str2 = \"kathrin\"\n",
        "\n",
        "# Tính độ đo Hamming distance\n",
        "distance = hamming_distance(str1, str2)\n",
        "\n",
        "print(\"Độ đo Hamming distance giữa hai chuỗi là:\", distance)"
      ],
      "metadata": {
        "colab": {
          "base_uri": "https://localhost:8080/"
        },
        "id": "1Uv1YfV_5UAj",
        "outputId": "ea964f63-408c-496a-a252-2a3aec2a7539"
      },
      "execution_count": 19,
      "outputs": [
        {
          "output_type": "stream",
          "name": "stdout",
          "text": [
            "Độ đo Hamming distance giữa hai chuỗi là: 3\n"
          ]
        }
      ]
    },
    {
      "cell_type": "code",
      "source": [
        "def jaccard_similarity(str1, str2):\n",
        "    set1 = set(str1) # Chuyển chuỗi str1 thành tập hợp\n",
        "    set2 = set(str2) # Chuyển chuỗi str2 thành tập hợp\n",
        "    intersection = set1.intersection(set2) # Tìm tập hợp giao của hai tập hợp\n",
        "    union = set1.union(set2) # Tìm tập hợp hợp của hai tập hợp\n",
        "    similarity = len(intersection) / len(union) # Tính độ đo Jaccard similarity\n",
        "    return similarity\n"
      ],
      "metadata": {
        "id": "QAoqIZ5axSma"
      },
      "execution_count": 20,
      "outputs": []
    },
    {
      "cell_type": "code",
      "source": [
        "# Hai chuỗi cần so sánh\n",
        "str1 = \"hello\"\n",
        "str2 = \"holla\"\n",
        "\n",
        "# Tính độ đo Jaccard similarity\n",
        "similarity = jaccard_similarity(str1, str2)\n",
        "\n",
        "print(\"Độ đo Jaccard similarity giữa hai chuỗi là:\", similarity)"
      ],
      "metadata": {
        "colab": {
          "base_uri": "https://localhost:8080/"
        },
        "id": "a0nTDX-MICe0",
        "outputId": "2d6a031b-02c9-45a2-be20-be8949fac5e8"
      },
      "execution_count": 21,
      "outputs": [
        {
          "output_type": "stream",
          "name": "stdout",
          "text": [
            "Độ đo Jaccard similarity giữa hai chuỗi là: 0.6\n"
          ]
        }
      ]
    },
    {
      "cell_type": "code",
      "source": [
        "# Tiền xử lý dữ liệu: loại bỏ ký tự đặc biệt, chuyển về lowercase, tách từ\n",
        "def preprocess_sentence(sentence):\n",
        "    sentence = sentence.lower()\n",
        "    sentence = sentence.translate(str.maketrans('', '', string.punctuation))\n",
        "    words = sentence.split()\n",
        "    return words\n",
        "\n",
        "# Xây dựng vector từ\n",
        "def build_word_vector(sentence):\n",
        "    word_vector = Counter(sentence)\n",
        "    return word_vector\n",
        "    \n",
        "# Tính tần suất xuất hiện của từ term trong danh sách words\n",
        "def term_frequency(term, words): \n",
        "    term_count = words.count(term)\n",
        "    return term_count / len(words)"
      ],
      "metadata": {
        "id": "wYvjP9opYVke"
      },
      "execution_count": 22,
      "outputs": []
    },
    {
      "cell_type": "code",
      "source": [
        "# Tính độ đo Bag of Words similarity\n",
        "def bag_of_words_similarity(sentence1, sentence2):\n",
        "    # Tính độ đo độ tương tự (ở đây ta sử dụng Cosine similarity)\n",
        "    dot_product = sum(vector1[word] * vector2[word] for word in set(vector1) & set(vector2))\n",
        "    magnitude1 = math.sqrt(sum(vector1[word] ** 2 for word in vector1))\n",
        "    magnitude2 = math.sqrt(sum(vector2[word] ** 2 for word in vector2))\n",
        "\n",
        "    similarity = dot_product / (magnitude1 * magnitude2)\n",
        "\n",
        "    return similarity\n",
        "\n",
        "# Hai câu cần so sánh\n",
        "sentence1 = \"This is a sample sentence.\"\n",
        "sentence2 = \"This sentence is similar to a sample sentence.\"\n",
        "\n",
        "# Tiền xử lý dữ liệu\n",
        "words1 = preprocess_sentence(sentence1)\n",
        "words2 = preprocess_sentence(sentence2)\n",
        "\n",
        "# Xây dựng vector từ\n",
        "vector1 = build_word_vector(words1)\n",
        "vector2 = build_word_vector(words2)\n",
        "\n",
        "# Tính độ đo Bag of Words similarity\n",
        "similarity = bag_of_words_similarity(sentence1, sentence2)\n",
        "\n",
        "print(\"Độ đo Bag of Words similarity giữa hai câu là:\", similarity)"
      ],
      "metadata": {
        "colab": {
          "base_uri": "https://localhost:8080/"
        },
        "id": "SS08pzT51_kl",
        "outputId": "114af6a8-c8bd-4986-cb58-5f65beaf21cc"
      },
      "execution_count": 23,
      "outputs": [
        {
          "output_type": "stream",
          "name": "stdout",
          "text": [
            "Độ đo Bag of Words similarity giữa hai câu là: 0.8485281374238569\n"
          ]
        }
      ]
    },
    {
      "cell_type": "code",
      "source": [
        "def inverse_document_frequency(term, sentences):\n",
        "    # Tính inverse document frequency (idf) của từ term trong tập sentences\n",
        "    document_count = len(sentences)\n",
        "    term_appear_count = sum([1 for sentence in sentences if term in sentence])\n",
        "    return math.log(document_count / (term_appear_count + 1))\n",
        "\n",
        "def tf_idf_similarity(sentence1, sentence2):\n",
        "    # Tính độ đo TF-IDF similarity giữa hai câu sentence1 và sentence2\n",
        "    \n",
        "    terms = set(words1 + words2) \n",
        "    tf_idf_sum = 0\n",
        "    for term in terms:\n",
        "        tf_sentence1 = term_frequency(term, words1)\n",
        "        tf_sentence2 = term_frequency(term, words2)\n",
        "        idf = inverse_document_frequency(term, [words1, words2])\n",
        "        tf_idf_sum += (tf_sentence1 * idf) + (tf_sentence2 * idf)\n",
        "    return tf_idf_sum\n",
        "\n",
        "# Hai câu cần so sánh\n",
        "sentence1 = \"This is a sample sentence.\"\n",
        "sentence2 = \"This sentence is similar to a sample sentence.\"\n",
        "\n",
        "# Tiền xử lý dữ liệu\n",
        "words1 = preprocess_sentence(sentence1)\n",
        "words2 = preprocess_sentence(sentence2)\n",
        "\n",
        "# Tính độ đo TF-IDF similarity\n",
        "similarity = tf_idf_similarity(sentence1, sentence2)\n",
        "\n",
        "print(\"Độ đo TF-IDF similarity giữa hai câu là:\", similarity)"
      ],
      "metadata": {
        "colab": {
          "base_uri": "https://localhost:8080/"
        },
        "id": "nSUwwl57ooCE",
        "outputId": "34b480be-2623-4809-8617-36fc69b5b447"
      },
      "execution_count": 24,
      "outputs": [
        {
          "output_type": "stream",
          "name": "stdout",
          "text": [
            "Độ đo TF-IDF similarity giữa hai câu là: -0.7095639391892878\n"
          ]
        }
      ]
    },
    {
      "cell_type": "code",
      "source": [
        "# Tính độ đo Cosine similarity\n",
        "def cosine_similarity(vector1, vector2):\n",
        "    # Tính tổng tích vô hướng của hai vector\n",
        "    dot_product = sum(vector1[word] * vector2[word] for word in vector1 if word in vector2)\n",
        "    \n",
        "    # Tính độ dài (norm) của hai vector\n",
        "    magnitude_vector1 = math.sqrt(sum(vector1[word] ** 2 for word in vector1))\n",
        "    magnitude_vector2 = math.sqrt(sum(vector2[word] ** 2 for word in vector2))\n",
        "    \n",
        "    # Tính độ đo Cosine similarity\n",
        "    similarity = dot_product / (magnitude_vector1 * magnitude_vector2)\n",
        "    \n",
        "    return similarity\n",
        "\n",
        "# Hai câu cần so sánh\n",
        "sentence1 = \"This is a sample sentence.\"\n",
        "sentence2 = \"This sentence is similar to a sample sentence.\"\n",
        "\n",
        "# Tiền xử lý dữ liệu\n",
        "words1 = preprocess_sentence(sentence1)\n",
        "words2 = preprocess_sentence(sentence2)\n",
        "\n",
        "# Xây dựng vector từ\n",
        "vector1 = build_word_vector(words1)\n",
        "vector2 = build_word_vector(words2)\n",
        "\n",
        "# Tính độ đo Cosine similarity\n",
        "similarity = cosine_similarity(vector1, vector2)\n",
        "\n",
        "print(\"Độ đo Cosine similarity giữa hai câu là:\", similarity)"
      ],
      "metadata": {
        "colab": {
          "base_uri": "https://localhost:8080/"
        },
        "id": "vHIcBdj_2J91",
        "outputId": "809b005f-8e22-4644-b8d8-680f43c3f672"
      },
      "execution_count": 25,
      "outputs": [
        {
          "output_type": "stream",
          "name": "stdout",
          "text": [
            "Độ đo Cosine similarity giữa hai câu là: 0.8485281374238569\n"
          ]
        }
      ]
    }
  ]
}